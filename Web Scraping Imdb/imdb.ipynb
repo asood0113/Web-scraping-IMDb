{
 "metadata": {
  "language_info": {
   "codemirror_mode": {
    "name": "ipython",
    "version": 3
   },
   "file_extension": ".py",
   "mimetype": "text/x-python",
   "name": "python",
   "nbconvert_exporter": "python",
   "pygments_lexer": "ipython3",
   "version": "3.9.0"
  },
  "orig_nbformat": 4,
  "kernelspec": {
   "name": "python3",
   "display_name": "Python 3.9.0 64-bit"
  },
  "interpreter": {
   "hash": "322e5b4af970d614be014a88b1853ca1fd99b2f4bc97f4da6e5824f5dbf2a6b7"
  }
 },
 "nbformat": 4,
 "nbformat_minor": 2,
 "cells": [
  {
   "cell_type": "code",
   "execution_count": 22,
   "metadata": {},
   "outputs": [],
   "source": [
    "import time\n",
    "from selenium import webdriver as wd\n",
    "import numpy as np\n",
    "import pandas as pd"
   ]
  },
  {
   "source": [
    "<H1>This code is to extract featured today movies from IMDB with all the details "
   ],
   "cell_type": "markdown",
   "metadata": {}
  },
  {
   "cell_type": "code",
   "execution_count": 36,
   "metadata": {
    "tags": [
     "outputPrepend"
    ]
   },
   "outputs": [
    {
     "output_type": "stream",
     "name": "stdout",
     "text": [
      "| Stars: Tom Cruise, Cobie Smulders, Aldis Hodge, Robert Knepper\nVotes: 143,390 | Gross: $58.70M\nAvailable to Stream on July 15 in English\n5. Paranormal Activity: The Ghost Dimension (2015)\nR | 88 min | Horror, Mystery\n4.6 Rate this\n30 Metascore\nUsing a special camera that can see spirits, a family must protect their daughter from an evil entity with a sinister plan.\nDirector: Gregory Plotkin | Stars: Chris J. Murray, Brit Shaw, Ivy George, Dan Gill\nVotes: 25,714 | Gross: $18.30M\nAvailable to Stream on July 15 in English\n6. Gossip Girl (2007–2012)\nTV-14 | 42 min | Drama, Romance\n7.4 Rate this\nPrivileged teens living on the Upper East Side of New York can hide no secret from the ruthless blogger who is always watching.\nStars: Blake Lively, Leighton Meester, Penn Badgley, Ed Westwick\nVotes: 158,236\nSeason 1-8 is Available to Stream on July 8\n7. Teenage Mutant Ninja Turtles: Out of the Shadows (2016)\nPG-13 | 112 min | Action, Adventure, Comedy\n6.0 Rate this\n40 Metascore\nThe Turtles get into another battle with their enemy the Shredder, who has acquired new allies: the mutant thugs Bebop and Rocksteady and the alien being Krang.\nDirector: Dave Green | Stars: Megan Fox, Will Arnett, Tyler Perry, Laura Linney\nVotes: 86,437 | Gross: $82.05M\nAvailable to Stream on July 15 in English\n8. Toofaan (2021)\nUA | 163 min | Action, Drama, Sport | Post-production\nFarhan Akhtar plays a boxer in this fictional drama.\nDirector: Rakeysh Omprakash Mehra | Stars: Farhan Akhtar, Paresh Rawal, Mrunal Thakur, Darshan Kumaar\nAvailable to Stream on July 16 in Hindi\n9. Making the Cut (2020– )\nTV-14 | 60 min | Reality-TV\n6.6 Rate this\nFashion competition series hosted by Heidi Klum & Tim Gunn featuring 10 talented entrepreneurs and designers from around the world, who are ready to take their emerging brands to the next level and become the newest global phenomenon.\nStars: Tim Gunn, Heidi Klum, Jonny Cota, Naomi Campbell\nVotes: 1,255\nSeason 2 is Available to Stream on July 16 in English\n\n9 titles\n"
     ]
    }
   ],
   "source": [
    "driver = wd.Chrome(executable_path='C:/Users/anany/.wdm/drivers/chromedriver/win32/91.0.4472.101/chromedriver.exe')\n",
    "driver.get(\"https://www.imdb.com/\")\n",
    "\n",
    "driver.implicitly_wait(10)\n",
    "\n",
    "# scroll to bottom \n",
    "\n",
    "driver.execute_script(\"window.scrollTo(0,document.body.scrollHeight)\")\n",
    "\n",
    "# scroll to top\n",
    "\n",
    "driver.execute_script(\"window.scroll(0, 0);\")\n",
    "\n",
    "driver.implicitly_wait(10)\n",
    "\n",
    "# click on todays pick\n",
    "\n",
    "featured_today=driver.find_element_by_xpath(\"/html/body/div[2]/main/div[2]/div[3]/div[2]/section/section/div/div[2]/div[1]/div[1]/a/div[3]/span\").click()\n",
    "\n",
    "featured_today_fullinfo=[]\n",
    "for i in driver.find_elements_by_xpath(\"/html/body/div[4]/div/div[2]/div[3]/div/div[1]/div/span/div/div/div/div[2]\"):\n",
    "    featured_today_fullinfo.append(i.text)\n",
    "    print(i.text)\n",
    "    \n",
    "driver.quit()    "
   ]
  },
  {
   "cell_type": "code",
   "execution_count": 37,
   "metadata": {},
   "outputs": [],
   "source": [
    "# saving info in a text file\n",
    "\n",
    "# array to pandas df\n",
    "featured_today_fullinfo = pd.DataFrame(featured_today_fullinfo)\n",
    "\n",
    "# df to numpy array\n",
    "\n",
    "numpy_array = featured_today_fullinfo.to_numpy()\n",
    "\n",
    "np.savetxt(\"featured_today_fullinfo.txt\", numpy_array, fmt = \"%s\")"
   ]
  },
  {
   "source": [
    "<h1>Featured today just the titles"
   ],
   "cell_type": "markdown",
   "metadata": {}
  },
  {
   "cell_type": "code",
   "execution_count": 53,
   "metadata": {
    "tags": []
   },
   "outputs": [
    {
     "output_type": "stream",
     "name": "stdout",
     "text": [
      "1. Arrow (2012–2020)\n",
      "2. The Tomorrow War (2021)\n",
      "3. Luxe Listings Sydney (2021– )\n",
      "4. Jack Reacher: Never Go Back (2016)\n",
      "5. Paranormal Activity: The Ghost Dimension (2015)\n",
      "6. Gossip Girl (2007–2012)\n",
      "7. Teenage Mutant Ninja Turtles: Out of the Shadows (2016)\n",
      "8. Toofaan (2021)\n",
      "9. Making the Cut (2020– )\n"
     ]
    }
   ],
   "source": [
    "driver = wd.Chrome(executable_path='C:/Users/anany/.wdm/drivers/chromedriver/win32/91.0.4472.101/chromedriver.exe')\n",
    "driver.get(\"https://www.imdb.com/\")\n",
    "\n",
    "driver.implicitly_wait(10)\n",
    "\n",
    "# scroll to bottom \n",
    "\n",
    "driver.execute_script(\"window.scrollTo(0,document.body.scrollHeight)\")\n",
    "\n",
    "# scroll to top\n",
    "\n",
    "driver.execute_script(\"window.scroll(0, 0);\")\n",
    "\n",
    "driver.implicitly_wait(10)\n",
    "\n",
    "# click on todays pick\n",
    "\n",
    "featrured_today=driver.find_element_by_xpath(\"/html/body/div[2]/main/div[2]/div[3]/div[2]/section/section/div/div[2]/div[1]/div[1]/a/div[3]/span\").click()\n",
    "\n",
    "# click on comapct view\n",
    "\n",
    "compact_view=driver.find_element_by_xpath(\"/html/body/div[4]/div/div[2]/div[3]/div/div[1]/div/span/div/div/div/div[2]/div[1]/div/div[1]/div[2]/span[3]\").click()\n",
    "\n",
    "driver.implicitly_wait(10)\n",
    "\n",
    "featured_today_names=[]\n",
    "\n",
    "for x in driver.find_elements_by_class_name(\"lister-item-header\"):\n",
    "    featured_today_names.append(x.text)\n",
    "    print(x.text)\n"
   ]
  },
  {
   "cell_type": "code",
   "execution_count": 54,
   "metadata": {},
   "outputs": [],
   "source": [
    "# an array can be converted into a pandas dataframe\n",
    "\n",
    "df_featured_today_names = pd.DataFrame(featured_today_names)\n",
    "\n",
    "# the dataframe is then converted into a csv file\n",
    "\n",
    "df_featured_today_names.to_csv(\"featured_today_names.csv\")"
   ]
  }
 ]
}